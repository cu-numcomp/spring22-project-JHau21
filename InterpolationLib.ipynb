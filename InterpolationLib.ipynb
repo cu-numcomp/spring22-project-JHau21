{
 "cells": [
  {
   "cell_type": "markdown",
   "id": "9c10bb2e-6a5b-40bb-bcf4-5c8432d91a77",
   "metadata": {},
   "source": [
    "Name: Jack Hau\n",
    "\n",
    "# **Project**\n",
    "\n",
    "### Library: Interpolation.jl\n",
    "\n",
    "For this project I decided to explore a library called Interpolation.jl that essentially maintains a series of different interpolation methods, mainly intended for use on a set of discrete data points. \n",
    "\n",
    "The library is designed to be easy to use, provide support for a broad range of algorithms, and be extremely efficient and quick.\n",
    "\n",
    "Let's start by importing the library for use."
   ]
  },
  {
   "cell_type": "code",
   "execution_count": 48,
   "id": "f40fdadc-561b-463e-8048-95a5b7f67832",
   "metadata": {},
   "outputs": [],
   "source": [
    "using Pkg\n",
    "Pkg.add(\"Interpolations\")"
   ]
  },
  {
   "cell_type": "markdown",
   "id": "30da7be8-8899-491c-9bef-21e55265819a",
   "metadata": {},
   "source": [
    "### **Testing**\n",
    "\n",
    "First let's test the package on the recommended grid."
   ]
  },
  {
   "cell_type": "code",
   "execution_count": 41,
   "id": "0de99a1d-9e5c-4ecf-97b7-28327371ca4a",
   "metadata": {},
   "outputs": [
    {
     "data": {
      "text/plain": [
       "21-element Vector{Float64}:\n",
       " 0.0\n",
       " 0.1823215567939546\n",
       " 0.3364722366212129\n",
       " 0.47000362924573563\n",
       " 0.5877866649021191\n",
       " 0.6931471805599453\n",
       " 0.7884573603642703\n",
       " 0.8754687373538999\n",
       " 0.9555114450274363\n",
       " 1.0296194171811581\n",
       " 1.0986122886681098\n",
       " 1.1631508098056809\n",
       " 1.2237754316221157\n",
       " 1.2809338454620642\n",
       " 1.33500106673234\n",
       " 1.3862943611198906\n",
       " 1.4350845252893227\n",
       " 1.4816045409242156\n",
       " 1.5260563034950492\n",
       " 1.5686159179138452\n",
       " 1.6094379124341003"
      ]
     },
     "execution_count": 41,
     "metadata": {},
     "output_type": "execute_result"
    }
   ],
   "source": [
    "xs = 1:0.2:5\n",
    "f(x) = log(x)\n",
    "A = [f(x) for x in xs]"
   ]
  },
  {
   "cell_type": "code",
   "execution_count": 45,
   "id": "a84f9025-54e6-4fa8-976d-42044e93f8eb",
   "metadata": {},
   "outputs": [
    {
     "ename": "LoadError",
     "evalue": "UndefVarError: Interpolations not defined",
     "output_type": "error",
     "traceback": [
      "UndefVarError: Interpolations not defined",
      "",
      "Stacktrace:",
      " [1] top-level scope",
      "   @ In[45]:1",
      " [2] eval",
      "   @ ./boot.jl:360 [inlined]",
      " [3] include_string(mapexpr::typeof(REPL.softscope), mod::Module, code::String, filename::String)",
      "   @ Base ./loading.jl:1094"
     ]
    }
   ],
   "source": [
    "interp_linear = Interpolations.LinearInterpolation(xs, A)\n",
    "interp_linear(3) # exactly log(3)\n",
    "interp_linear(3.1) # approximately log(3.1)\n",
    "interp_linear(0.9) # outside grid: error"
   ]
  },
  {
   "cell_type": "code",
   "execution_count": 43,
   "id": "2db3ba69-86aa-44fc-a143-29b966d7ab53",
   "metadata": {},
   "outputs": [
    {
     "ename": "LoadError",
     "evalue": "UndefVarError: Line not defined",
     "output_type": "error",
     "traceback": [
      "UndefVarError: Line not defined",
      "",
      "Stacktrace:",
      " [1] top-level scope",
      "   @ In[43]:1",
      " [2] eval",
      "   @ ./boot.jl:360 [inlined]",
      " [3] include_string(mapexpr::typeof(REPL.softscope), mod::Module, code::String, filename::String)",
      "   @ Base ./loading.jl:1094"
     ]
    }
   ],
   "source": [
    "interp_linear_extrap = LinearInterpolation(xs, A,extrapolation_bc=Line()) \n",
    "interp_linear_extrap(0.9) # outside grid: linear extrapolation"
   ]
  }
 ],
 "metadata": {
  "kernelspec": {
   "display_name": "Julia 1.6.1",
   "language": "julia",
   "name": "julia-1.6"
  },
  "language_info": {
   "file_extension": ".jl",
   "mimetype": "application/julia",
   "name": "julia",
   "version": "1.6.1"
  }
 },
 "nbformat": 4,
 "nbformat_minor": 5
}
